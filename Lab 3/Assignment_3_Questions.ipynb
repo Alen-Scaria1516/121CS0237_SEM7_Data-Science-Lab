{
  "nbformat": 4,
  "nbformat_minor": 0,
  "metadata": {
    "colab": {
      "provenance": []
    },
    "kernelspec": {
      "name": "python3",
      "display_name": "Python 3"
    },
    "language_info": {
      "name": "python"
    }
  },
  "cells": [
    {
      "cell_type": "markdown",
      "metadata": {
        "id": "00e476d6-046c-4ac9-8a1e-e7befe36b3d8"
      },
      "source": [
        "<table>\n",
        "<tr>\n",
        "<td width=15%><img src=\"https://www.nitrkl.ac.in/assets/images/logo.png\"></img></td>\n",
        "<td><center><h1>National Institute of Technology\n",
        "Rourkela, Odisha, India, 769008</h1><h2>Department of Computer Science Engineering</h2></center></td>\n",
        "</tr>\n",
        "<tr><td colspan=2><center><h3>Laborotary-4</h3></br>\n",
        "            <b>(Data Science Laborotary)</b></center></td></tr>\n",
        "</table>"
      ]
    },
    {
      "cell_type": "markdown",
      "source": [
        "##Linear Regression"
      ],
      "metadata": {
        "id": "tA2rffB3p8AV"
      }
    },
    {
      "cell_type": "markdown",
      "source": [
        "Importing libraries"
      ],
      "metadata": {
        "id": "daUJWyo15OQC"
      }
    },
    {
      "cell_type": "code",
      "execution_count": 1,
      "metadata": {
        "id": "OdrA1_2w3dMp"
      },
      "outputs": [],
      "source": [
        "import numpy as np\n",
        "import pandas as pd\n",
        "import matplotlib.pyplot as plt"
      ]
    },
    {
      "cell_type": "markdown",
      "source": [
        "Read the salary dataset"
      ],
      "metadata": {
        "id": "mQ5wXvHi5Sew"
      }
    },
    {
      "cell_type": "code",
      "source": [
        "# your answer here"
      ],
      "metadata": {
        "id": "J44a8-eB4Ol4"
      },
      "execution_count": 2,
      "outputs": []
    },
    {
      "cell_type": "markdown",
      "source": [
        "Show the first 10 rows of the dataset"
      ],
      "metadata": {
        "id": "AeVL8Chx6Vct"
      }
    },
    {
      "cell_type": "code",
      "source": [
        "# your answer here"
      ],
      "metadata": {
        "id": "ubM-yo1Z4RsP"
      },
      "execution_count": 3,
      "outputs": []
    },
    {
      "cell_type": "markdown",
      "source": [
        "Show the dimensions (No. of rows and coulmns) of the dataset"
      ],
      "metadata": {
        "id": "NlBZygB46vZ-"
      }
    },
    {
      "cell_type": "code",
      "source": [
        "# your answer here"
      ],
      "metadata": {
        "id": "i2rU8MpT4T2u"
      },
      "execution_count": 4,
      "outputs": []
    },
    {
      "cell_type": "markdown",
      "source": [
        "Print all the column names of the dataset"
      ],
      "metadata": {
        "id": "FErXX5kd64dF"
      }
    },
    {
      "cell_type": "code",
      "source": [
        "# your answer here"
      ],
      "metadata": {
        "id": "0hrpKpfy4lRJ"
      },
      "execution_count": 5,
      "outputs": []
    },
    {
      "cell_type": "markdown",
      "source": [
        "Print general information of the dataset like column, and datatype."
      ],
      "metadata": {
        "id": "jGShMz8A696c"
      }
    },
    {
      "cell_type": "code",
      "source": [
        "# your answer here"
      ],
      "metadata": {
        "id": "sG0CVtJL4nq3"
      },
      "execution_count": 6,
      "outputs": []
    },
    {
      "cell_type": "markdown",
      "source": [
        "Extract independent and dependent features and store it in two different variables."
      ],
      "metadata": {
        "id": "70S9jjCV7hUF"
      }
    },
    {
      "cell_type": "code",
      "source": [
        "# your answer here"
      ],
      "metadata": {
        "id": "gUvpCjVY4s7f"
      },
      "execution_count": 7,
      "outputs": []
    },
    {
      "cell_type": "markdown",
      "source": [
        "Split the dataset into train and test set"
      ],
      "metadata": {
        "id": "axgHXh9_7q-9"
      }
    },
    {
      "cell_type": "code",
      "source": [
        "from sklearn.model_selection import train_test_split"
      ],
      "metadata": {
        "id": "lOtsinlM8DvX"
      },
      "execution_count": 8,
      "outputs": []
    },
    {
      "cell_type": "code",
      "source": [
        "# your answer here"
      ],
      "metadata": {
        "id": "vVynVGvB4xrg"
      },
      "execution_count": 9,
      "outputs": []
    },
    {
      "cell_type": "markdown",
      "source": [
        "Training the Simple Linear Regression model on the Training set"
      ],
      "metadata": {
        "id": "llrNjoFQ8oKZ"
      }
    },
    {
      "cell_type": "code",
      "source": [
        "from sklearn.linear_model import LinearRegression"
      ],
      "metadata": {
        "id": "mhlqSL7B8qDH"
      },
      "execution_count": 10,
      "outputs": []
    },
    {
      "cell_type": "code",
      "source": [
        "# your answer here"
      ],
      "metadata": {
        "id": "6Ynzwwe-42Y4"
      },
      "execution_count": 11,
      "outputs": []
    },
    {
      "cell_type": "markdown",
      "source": [
        "Predict the Test set results"
      ],
      "metadata": {
        "id": "mTx8iUSj83lg"
      }
    },
    {
      "cell_type": "code",
      "source": [
        "# your answer here"
      ],
      "metadata": {
        "id": "fGgQTkbV49o7"
      },
      "execution_count": 12,
      "outputs": []
    },
    {
      "cell_type": "markdown",
      "source": [
        "Visualize the linear regression on training data using scatterplot."
      ],
      "metadata": {
        "id": "u_K9Gsj389og"
      }
    },
    {
      "cell_type": "code",
      "source": [
        "# your answer here"
      ],
      "metadata": {
        "id": "BC2dmRuX5AKx"
      },
      "execution_count": 13,
      "outputs": []
    },
    {
      "cell_type": "markdown",
      "source": [
        "Visualize the linear regression on test data using scatterplot."
      ],
      "metadata": {
        "id": "sdUl5xHh9GwA"
      }
    },
    {
      "cell_type": "code",
      "source": [
        "# your answer here"
      ],
      "metadata": {
        "id": "p3XvfVyk5Cz4"
      },
      "execution_count": 14,
      "outputs": []
    },
    {
      "cell_type": "markdown",
      "source": [
        "Finding R^2 score"
      ],
      "metadata": {
        "id": "1t2tqXWH9PQk"
      }
    },
    {
      "cell_type": "code",
      "source": [
        "from sklearn.metrics import r2_score"
      ],
      "metadata": {
        "id": "Aj3RtYbv9STp"
      },
      "execution_count": 15,
      "outputs": []
    },
    {
      "cell_type": "code",
      "source": [
        "# your answer here"
      ],
      "metadata": {
        "id": "VPDKetSm5GSI"
      },
      "execution_count": 16,
      "outputs": []
    },
    {
      "cell_type": "markdown",
      "source": [
        "##Logistic Regression"
      ],
      "metadata": {
        "id": "zL-qplgHHo3c"
      }
    },
    {
      "cell_type": "markdown",
      "source": [
        "Import Libraries"
      ],
      "metadata": {
        "id": "92wIPh97qGdF"
      }
    },
    {
      "cell_type": "code",
      "source": [
        "import pandas as pd\n",
        "import numpy as np\n",
        "import matplotlib.pyplot as plt\n",
        "import seaborn as sns\n",
        "from sklearn.model_selection import train_test_split\n",
        "from sklearn.model_selection import GridSearchCV\n",
        "from sklearn.linear_model import LogisticRegression\n",
        "from sklearn.metrics import accuracy_score, confusion_matrix, classification_report"
      ],
      "metadata": {
        "id": "_SXZ5Cj8HcyD"
      },
      "execution_count": 17,
      "outputs": []
    },
    {
      "cell_type": "markdown",
      "source": [
        "Read the heart failure dataset"
      ],
      "metadata": {
        "id": "BIDCYVxdJcKJ"
      }
    },
    {
      "cell_type": "code",
      "source": [
        "# your answer here"
      ],
      "metadata": {
        "id": "eu7CZ9muJggQ"
      },
      "execution_count": 18,
      "outputs": []
    },
    {
      "cell_type": "markdown",
      "source": [
        "Display the first five rows\n"
      ],
      "metadata": {
        "id": "V49FoMlHqN_u"
      }
    },
    {
      "cell_type": "code",
      "source": [
        "# your answer here"
      ],
      "metadata": {
        "id": "CSq7izrhqRx9"
      },
      "execution_count": 19,
      "outputs": []
    },
    {
      "cell_type": "markdown",
      "source": [
        "Check for missing values"
      ],
      "metadata": {
        "id": "ZXF4oFzeqTzd"
      }
    },
    {
      "cell_type": "code",
      "source": [
        "# your answer here\n"
      ],
      "metadata": {
        "id": "BHVp8Hi7pP2z"
      },
      "execution_count": 20,
      "outputs": []
    },
    {
      "cell_type": "markdown",
      "source": [
        "Describe numerical features"
      ],
      "metadata": {
        "id": "DyTUUWInqYX1"
      }
    },
    {
      "cell_type": "code",
      "source": [
        "# your answer here"
      ],
      "metadata": {
        "id": "4WwI8MWkqWim"
      },
      "execution_count": 21,
      "outputs": []
    },
    {
      "cell_type": "markdown",
      "source": [
        "Visualize the distribution of key features (Age, Cholesterol, MaxHR) using histograms."
      ],
      "metadata": {
        "id": "i0i9fteHqbUP"
      }
    },
    {
      "cell_type": "code",
      "source": [
        "# your answer here"
      ],
      "metadata": {
        "id": "qmStHrYnpUC7"
      },
      "execution_count": 22,
      "outputs": []
    },
    {
      "cell_type": "markdown",
      "source": [
        "List all categorical_features"
      ],
      "metadata": {
        "id": "p61--KFdqk8G"
      }
    },
    {
      "cell_type": "code",
      "source": [
        "# your answer here"
      ],
      "metadata": {
        "id": "AfVImrX9qtoO"
      },
      "execution_count": 23,
      "outputs": []
    },
    {
      "cell_type": "markdown",
      "source": [
        "Convert categorical variables into numerical format using label encoding."
      ],
      "metadata": {
        "id": "QFQ6WKADqxku"
      }
    },
    {
      "cell_type": "code",
      "source": [
        "# your answer here"
      ],
      "metadata": {
        "id": "UmmXBHAApX9s"
      },
      "execution_count": 24,
      "outputs": []
    },
    {
      "cell_type": "markdown",
      "source": [
        "Analyze the correlation between features using a heatmap."
      ],
      "metadata": {
        "id": "J4O5-FyDq4gW"
      }
    },
    {
      "cell_type": "code",
      "source": [
        "# your answer here"
      ],
      "metadata": {
        "id": "a9SaBrJspi7b"
      },
      "execution_count": 25,
      "outputs": []
    },
    {
      "cell_type": "markdown",
      "source": [
        "Split the dataset into training and testing sets (80-20 split)."
      ],
      "metadata": {
        "id": "KT_1ldfErTFg"
      }
    },
    {
      "cell_type": "code",
      "source": [
        "# your answer here"
      ],
      "metadata": {
        "id": "h6VprVLDpnVr"
      },
      "execution_count": 26,
      "outputs": []
    },
    {
      "cell_type": "markdown",
      "source": [
        "Perform hyperparameter tuning on logistic regression using GridSearchCV to find the best parameters"
      ],
      "metadata": {
        "id": "25gINkXSrYWg"
      }
    },
    {
      "cell_type": "code",
      "source": [
        "# your answer here"
      ],
      "metadata": {
        "id": "GhKCvjx1pruU"
      },
      "execution_count": 27,
      "outputs": []
    },
    {
      "cell_type": "markdown",
      "source": [
        "Train the logistic regression model using the best parameters obtained from GridSearchCV and evaluate its performance on the test set using accuracy, confusion matrix, and classification report."
      ],
      "metadata": {
        "id": "IAjZF-7SreF4"
      }
    },
    {
      "cell_type": "code",
      "source": [
        "# your answer here"
      ],
      "metadata": {
        "id": "59UbJ9mGpwLj"
      },
      "execution_count": 28,
      "outputs": []
    },
    {
      "cell_type": "code",
      "source": [
        "from sklearn.metrics import roc_curve, auc"
      ],
      "metadata": {
        "id": "Fa7bbYjfpye4"
      },
      "execution_count": 29,
      "outputs": []
    },
    {
      "cell_type": "code",
      "source": [
        "# your answer here"
      ],
      "metadata": {
        "id": "F8lRMTQd6pp4"
      },
      "execution_count": 30,
      "outputs": []
    }
  ]
}