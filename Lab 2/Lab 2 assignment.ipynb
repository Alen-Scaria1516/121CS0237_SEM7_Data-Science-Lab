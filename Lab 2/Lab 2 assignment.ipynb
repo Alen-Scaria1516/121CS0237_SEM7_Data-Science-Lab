{
 "cells": [
  {
   "cell_type": "markdown",
   "id": "00e476d6-046c-4ac9-8a1e-e7befe36b3d8",
   "metadata": {
    "id": "00e476d6-046c-4ac9-8a1e-e7befe36b3d8"
   },
   "source": [
    "<table>\n",
    "<tr>\n",
    "<td width=15%><img src=\"https://www.nitrkl.ac.in/assets/images/logo.png\"></img></td>\n",
    "<td><center><h1>National Institute of Technology\n",
    "Rourkela, Odisha, India, 769008</h1><h2>Department of Computer Science Engineering</h2></center></td>\n",
    "</tr>\n",
    "<tr><td colspan=2><center><h3>Laborotary-2</h3></br>\n",
    "            <b>(Data Science Laborotary)</b></center></td></tr>\n",
    "</table>"
   ]
  },
  {
   "cell_type": "code",
   "execution_count": null,
   "id": "supreme-beatles",
   "metadata": {
    "ExecuteTime": {
     "end_time": "2024-05-16T06:10:03.700108Z",
     "start_time": "2024-05-16T06:10:03.695104Z"
    },
    "_uuid": "e855067a1d281ca6634772513ef918aa1c9224f4",
    "id": "supreme-beatles",
    "papermill": {
     "duration": 0.052221,
     "end_time": "2021-05-07T08:35:59.463863",
     "exception": false,
     "start_time": "2021-05-07T08:35:59.411642",
     "status": "completed"
    },
    "scrolled": true,
    "tags": []
   },
   "outputs": [],
   "source": [
    "import numpy as np #Numpy stands for Numerical Python. used for numerical Operations\n",
    "import pandas as pd #Pandas is used for DataFrame/Database Operations\n",
    "import warnings\n",
    "warnings.filterwarnings(\"ignore\")\n",
    "\n",
    "pd.set_option(\"display.precision\", 2)"
   ]
  },
  {
   "cell_type": "markdown",
   "id": "catholic-remainder",
   "metadata": {
    "_uuid": "e3ae8b8d09f0dd881831253957ca96d086038f7b",
    "id": "catholic-remainder",
    "papermill": {
     "duration": 0.045851,
     "end_time": "2021-05-07T08:35:59.553832",
     "exception": false,
     "start_time": "2021-05-07T08:35:59.507981",
     "status": "completed"
    },
    "tags": []
   },
   "source": [
    "Read the telecom_churn csv file."
   ]
  },
  {
   "cell_type": "code",
   "execution_count": null,
   "id": "5p4ETlSRn6uh",
   "metadata": {
    "id": "5p4ETlSRn6uh"
   },
   "outputs": [],
   "source": [
    "#Your answer here"
   ]
  },
  {
   "cell_type": "markdown",
   "id": "n0bAV6bjoFgE",
   "metadata": {
    "_uuid": "e3ae8b8d09f0dd881831253957ca96d086038f7b",
    "id": "n0bAV6bjoFgE",
    "papermill": {
     "duration": 0.045851,
     "end_time": "2021-05-07T08:35:59.553832",
     "exception": false,
     "start_time": "2021-05-07T08:35:59.507981",
     "status": "completed"
    },
    "tags": []
   },
   "source": [
    "Show the first 10 rows of the dataset"
   ]
  },
  {
   "cell_type": "code",
   "execution_count": null,
   "id": "290xnR6_oQei",
   "metadata": {
    "id": "290xnR6_oQei"
   },
   "outputs": [],
   "source": [
    "#Your answer here"
   ]
  },
  {
   "cell_type": "markdown",
   "id": "5EOylOdSoT4N",
   "metadata": {
    "_uuid": "e3ae8b8d09f0dd881831253957ca96d086038f7b",
    "id": "5EOylOdSoT4N",
    "papermill": {
     "duration": 0.045851,
     "end_time": "2021-05-07T08:35:59.553832",
     "exception": false,
     "start_time": "2021-05-07T08:35:59.507981",
     "status": "completed"
    },
    "tags": []
   },
   "source": [
    "Show the last 10 rows of the dataset"
   ]
  },
  {
   "cell_type": "code",
   "execution_count": null,
   "id": "AhDVfI9HoT4O",
   "metadata": {
    "id": "AhDVfI9HoT4O"
   },
   "outputs": [],
   "source": [
    "#Your answer here"
   ]
  },
  {
   "cell_type": "markdown",
   "id": "Cbq9Jd41ojR8",
   "metadata": {
    "_uuid": "e3ae8b8d09f0dd881831253957ca96d086038f7b",
    "id": "Cbq9Jd41ojR8",
    "papermill": {
     "duration": 0.045851,
     "end_time": "2021-05-07T08:35:59.553832",
     "exception": false,
     "start_time": "2021-05-07T08:35:59.507981",
     "status": "completed"
    },
    "tags": []
   },
   "source": [
    "Show the dimensions (No. of rows and coulmns) of the dataset"
   ]
  },
  {
   "cell_type": "code",
   "execution_count": null,
   "id": "fQhgvfleojR9",
   "metadata": {
    "id": "fQhgvfleojR9"
   },
   "outputs": [],
   "source": [
    "#Your answer here"
   ]
  },
  {
   "cell_type": "markdown",
   "id": "gIgFsHJ8o6EH",
   "metadata": {
    "_uuid": "e3ae8b8d09f0dd881831253957ca96d086038f7b",
    "id": "gIgFsHJ8o6EH",
    "papermill": {
     "duration": 0.045851,
     "end_time": "2021-05-07T08:35:59.553832",
     "exception": false,
     "start_time": "2021-05-07T08:35:59.507981",
     "status": "completed"
    },
    "tags": []
   },
   "source": [
    "Print all the column names of the dataset"
   ]
  },
  {
   "cell_type": "code",
   "execution_count": null,
   "id": "-O3_nAgRo6EW",
   "metadata": {
    "id": "-O3_nAgRo6EW"
   },
   "outputs": [],
   "source": [
    "#Your answer here"
   ]
  },
  {
   "cell_type": "markdown",
   "id": "w0r4qJoxpfWv",
   "metadata": {
    "_uuid": "e3ae8b8d09f0dd881831253957ca96d086038f7b",
    "id": "w0r4qJoxpfWv",
    "papermill": {
     "duration": 0.045851,
     "end_time": "2021-05-07T08:35:59.553832",
     "exception": false,
     "start_time": "2021-05-07T08:35:59.507981",
     "status": "completed"
    },
    "tags": []
   },
   "source": [
    "Print general information of the dataset like column, and datatype."
   ]
  },
  {
   "cell_type": "code",
   "execution_count": null,
   "id": "7N5VK01LpfWv",
   "metadata": {
    "id": "7N5VK01LpfWv"
   },
   "outputs": [],
   "source": [
    "#Your answer here"
   ]
  },
  {
   "cell_type": "markdown",
   "id": "eyiSPzl8p145",
   "metadata": {
    "_uuid": "e3ae8b8d09f0dd881831253957ca96d086038f7b",
    "id": "eyiSPzl8p145",
    "papermill": {
     "duration": 0.045851,
     "end_time": "2021-05-07T08:35:59.553832",
     "exception": false,
     "start_time": "2021-05-07T08:35:59.507981",
     "status": "completed"
    },
    "tags": []
   },
   "source": [
    "After getting the datatype of every feature, you can see that there is a feature \"**churn**\" having Dtype as **bool**. Change that Dtype to **int64**."
   ]
  },
  {
   "cell_type": "code",
   "execution_count": null,
   "id": "ohKqADvdp146",
   "metadata": {
    "id": "ohKqADvdp146"
   },
   "outputs": [],
   "source": [
    "#Your answer here"
   ]
  },
  {
   "cell_type": "markdown",
   "id": "seventh-siemens",
   "metadata": {
    "_uuid": "11030a8bd020c6a3a04beb73531e9676160bcab8",
    "id": "seventh-siemens",
    "papermill": {
     "duration": 0.045453,
     "end_time": "2021-05-07T08:36:00.714887",
     "exception": false,
     "start_time": "2021-05-07T08:36:00.669434",
     "status": "completed"
    },
    "tags": []
   },
   "source": [
    "Which method shows basic statistical characteristics of each numerical feature (`int64` and `float64` types): number of non-missing values, mean, standard deviation, range, median, 0.25 and 0.75 quartiles."
   ]
  },
  {
   "cell_type": "code",
   "execution_count": null,
   "id": "ZziRVln-qjbR",
   "metadata": {
    "id": "ZziRVln-qjbR"
   },
   "outputs": [],
   "source": [
    "#Your answer here"
   ]
  },
  {
   "cell_type": "markdown",
   "id": "biological-atmosphere",
   "metadata": {
    "_uuid": "2314370435c6c44da57d4c97ad01ace128047fd5",
    "id": "biological-atmosphere",
    "papermill": {
     "duration": 0.047152,
     "end_time": "2021-05-07T08:36:00.969523",
     "exception": false,
     "start_time": "2021-05-07T08:36:00.922371",
     "status": "completed"
    },
    "tags": []
   },
   "source": [
    "Now show basic statistics on non-numerical features."
   ]
  },
  {
   "cell_type": "code",
   "execution_count": null,
   "id": "gt3L01p_q4tI",
   "metadata": {
    "id": "gt3L01p_q4tI"
   },
   "outputs": [],
   "source": [
    "#Your answer here"
   ]
  },
  {
   "cell_type": "markdown",
   "id": "motivated-mileage",
   "metadata": {
    "_uuid": "7acac4f33f2229215aa7818b10f4dfb1fafd96af",
    "id": "motivated-mileage",
    "papermill": {
     "duration": 0.047002,
     "end_time": "2021-05-07T08:36:01.201882",
     "exception": false,
     "start_time": "2021-05-07T08:36:01.154880",
     "status": "completed"
    },
    "tags": []
   },
   "source": [
    "How to show the basic statistics for categorical (type `object`) and boolean (type `bool`) features?"
   ]
  },
  {
   "cell_type": "code",
   "execution_count": null,
   "id": "VyS8kKGyrI6F",
   "metadata": {
    "id": "VyS8kKGyrI6F"
   },
   "outputs": [],
   "source": [
    "#Your answer here"
   ]
  },
  {
   "cell_type": "markdown",
   "id": "2f95ad43",
   "metadata": {
    "id": "2f95ad43"
   },
   "source": [
    "<h2>Check for Missing Values</h2>\n",
    "\n",
    "How to check for missing values in each column?"
   ]
  },
  {
   "cell_type": "code",
   "execution_count": null,
   "id": "IV59IY231C-H",
   "metadata": {
    "id": "IV59IY231C-H"
   },
   "outputs": [],
   "source": [
    "#Your answer here"
   ]
  },
  {
   "cell_type": "markdown",
   "id": "vertical-knock",
   "metadata": {
    "_uuid": "7f54ceacde8fe8b61fca39694651c82ba43a5b2c",
    "id": "vertical-knock",
    "papermill": {
     "duration": 0.04864,
     "end_time": "2021-05-07T08:36:01.614122",
     "exception": false,
     "start_time": "2021-05-07T08:36:01.565482",
     "status": "completed"
    },
    "tags": []
   },
   "source": [
    "\n",
    "<h2> Sorting</h2>\n",
    "\n",
    "How to sort a dataFrame using one of the variables (i.e columns) in ascending order and also in descending order?\n"
   ]
  },
  {
   "cell_type": "code",
   "execution_count": null,
   "id": "ip8dVEK82nvy",
   "metadata": {
    "id": "ip8dVEK82nvy"
   },
   "outputs": [],
   "source": [
    "#Your answer here"
   ]
  },
  {
   "cell_type": "markdown",
   "id": "hairy-advancement",
   "metadata": {
    "_uuid": "ad38052b7cc86b6ff5b35907c5a69ed3dacfcdef",
    "id": "hairy-advancement",
    "papermill": {
     "duration": 0.049226,
     "end_time": "2021-05-07T08:36:01.837466",
     "exception": false,
     "start_time": "2021-05-07T08:36:01.788240",
     "status": "completed"
    },
    "tags": []
   },
   "source": [
    "How to sort a dataFrame using multiple variables (i.e columns) in ascending order and also in descending order?"
   ]
  },
  {
   "cell_type": "code",
   "execution_count": null,
   "id": "OjJorDvP2yOZ",
   "metadata": {
    "id": "OjJorDvP2yOZ"
   },
   "outputs": [],
   "source": [
    "#Your answer here"
   ]
  },
  {
   "cell_type": "markdown",
   "id": "qualified-database",
   "metadata": {
    "_uuid": "ff41ebcef7b883413530260388df7e23996862ba",
    "id": "qualified-database",
    "papermill": {
     "duration": 0.050502,
     "end_time": "2021-05-07T08:36:02.073347",
     "exception": false,
     "start_time": "2021-05-07T08:36:02.022845",
     "status": "completed"
    },
    "tags": []
   },
   "source": [
    "<h2>Indexing and retrieving data</h2>\n",
    "\n",
    "What is the proportion of churned users in our dataframe?"
   ]
  },
  {
   "cell_type": "code",
   "execution_count": null,
   "id": "UFk-PzFi3k9K",
   "metadata": {
    "id": "UFk-PzFi3k9K"
   },
   "outputs": [],
   "source": [
    "#Your answer here"
   ]
  },
  {
   "cell_type": "markdown",
   "id": "persistent-moore",
   "metadata": {
    "_uuid": "8abe3b0982e4599e775f08d8f2feab2b8a702a7b",
    "id": "persistent-moore",
    "papermill": {
     "duration": 0.050992,
     "end_time": "2021-05-07T08:36:02.286636",
     "exception": false,
     "start_time": "2021-05-07T08:36:02.235644",
     "status": "completed"
    },
    "tags": []
   },
   "source": [
    "What are average values of numerical features for churned users?"
   ]
  },
  {
   "cell_type": "code",
   "execution_count": null,
   "id": "iAYi_iNZ3lVq",
   "metadata": {
    "id": "iAYi_iNZ3lVq"
   },
   "outputs": [],
   "source": [
    "#Your answer here"
   ]
  },
  {
   "cell_type": "markdown",
   "id": "smart-nevada",
   "metadata": {
    "_uuid": "126e527e04c244c71edd9eac3abcc4a0a8bcd2cb",
    "id": "smart-nevada",
    "papermill": {
     "duration": 0.050421,
     "end_time": "2021-05-07T08:36:02.504910",
     "exception": false,
     "start_time": "2021-05-07T08:36:02.454489",
     "status": "completed"
    },
    "tags": []
   },
   "source": [
    "How much time (on average) do churned users spend on the phone during daytime?"
   ]
  },
  {
   "cell_type": "code",
   "execution_count": null,
   "id": "zlyaASCK3l3u",
   "metadata": {
    "id": "zlyaASCK3l3u"
   },
   "outputs": [],
   "source": [
    "#Your answer here"
   ]
  },
  {
   "cell_type": "markdown",
   "id": "noted-tender",
   "metadata": {
    "_uuid": "ef0358493f1731814d1bb34759ec6a0fad822487",
    "id": "noted-tender",
    "papermill": {
     "duration": 0.052239,
     "end_time": "2021-05-07T08:36:02.745350",
     "exception": false,
     "start_time": "2021-05-07T08:36:02.693111",
     "status": "completed"
    },
    "tags": []
   },
   "source": [
    "What is the maximum length of international calls among loyal users (`Churn == 0`) who do not have an international plan?\n",
    "\n"
   ]
  },
  {
   "cell_type": "code",
   "execution_count": null,
   "id": "hxYp8kRo3mhC",
   "metadata": {
    "id": "hxYp8kRo3mhC"
   },
   "outputs": [],
   "source": [
    "#Your answer here"
   ]
  },
  {
   "cell_type": "markdown",
   "id": "fabulous-airfare",
   "metadata": {
    "_uuid": "35d8ce07aeb613e44dbd577ff1b17d4d109a7e5d",
    "id": "fabulous-airfare",
    "papermill": {
     "duration": 0.052309,
     "end_time": "2021-05-07T08:36:03.316956",
     "exception": false,
     "start_time": "2021-05-07T08:36:03.264647",
     "status": "completed"
    },
    "tags": []
   },
   "source": [
    "How to get the first or the last line of the data frame?"
   ]
  },
  {
   "cell_type": "code",
   "execution_count": null,
   "id": "48nS7eXw3usr",
   "metadata": {
    "id": "48nS7eXw3usr"
   },
   "outputs": [],
   "source": [
    "#Your answer here"
   ]
  },
  {
   "cell_type": "markdown",
   "id": "numerical-manchester",
   "metadata": {
    "_uuid": "a982c54dd9d60bd4e98e04a19942f6bad1d5d920",
    "id": "numerical-manchester",
    "papermill": {
     "duration": 0.053055,
     "end_time": "2021-05-07T08:36:03.552892",
     "exception": false,
     "start_time": "2021-05-07T08:36:03.499837",
     "status": "completed"
    },
    "tags": []
   },
   "source": [
    "\n",
    "### Applying Functions to Cells, Columns and Rows\n",
    "\n",
    "How can you apply a function to each column of a DataFrame to find the maximum value in each column?\n"
   ]
  },
  {
   "cell_type": "code",
   "execution_count": null,
   "id": "Q29RYGbQ5LRX",
   "metadata": {
    "id": "Q29RYGbQ5LRX"
   },
   "outputs": [],
   "source": [
    "#Your answer here"
   ]
  },
  {
   "cell_type": "markdown",
   "id": "designed-bristol",
   "metadata": {
    "_uuid": "613f8dbb88fbaf512638ad5525f5fc14a94732e7",
    "id": "designed-bristol",
    "papermill": {
     "duration": 0.053761,
     "end_time": "2021-05-07T08:36:03.785506",
     "exception": false,
     "start_time": "2021-05-07T08:36:03.731745",
     "status": "completed"
    },
    "tags": []
   },
   "source": [
    "How can you filter rows in a DataFrame to select all states that start with the letter \"W\"?"
   ]
  },
  {
   "cell_type": "code",
   "execution_count": null,
   "id": "kao2pUeA5qMw",
   "metadata": {
    "id": "kao2pUeA5qMw"
   },
   "outputs": [],
   "source": [
    "#Your answer here"
   ]
  },
  {
   "cell_type": "markdown",
   "id": "collect-peoples",
   "metadata": {
    "_uuid": "8189ed0376dd712ccd2357081e224087f7d3d0aa",
    "id": "collect-peoples",
    "papermill": {
     "duration": 0.056217,
     "end_time": "2021-05-07T08:36:04.033554",
     "exception": false,
     "start_time": "2021-05-07T08:36:03.977337",
     "status": "completed"
    },
    "tags": []
   },
   "source": [
    "How can you replace values in a DataFrame column, such as changing the values of \"International plan\" and \"Voice mail plan\" from \"Yes\" or \"No\" to True or False?"
   ]
  },
  {
   "cell_type": "code",
   "execution_count": null,
   "id": "Rcsi52D36M7G",
   "metadata": {
    "id": "Rcsi52D36M7G"
   },
   "outputs": [],
   "source": [
    "#Your answer here"
   ]
  },
  {
   "cell_type": "markdown",
   "id": "optimum-tractor",
   "metadata": {
    "_uuid": "22f7916fb05500116fdd6e52b86bf7949912bd9c",
    "id": "optimum-tractor",
    "papermill": {
     "duration": 0.056381,
     "end_time": "2021-05-07T08:36:04.538571",
     "exception": false,
     "start_time": "2021-05-07T08:36:04.482190",
     "status": "completed"
    },
    "tags": []
   },
   "source": [
    "\n",
    "### Grouping\n",
    "\n",
    "In general, grouping data in Pandas works as follows:\n"
   ]
  },
  {
   "cell_type": "markdown",
   "id": "tired-burton",
   "metadata": {
    "_uuid": "850ace3defaca6b72ef976c86a5020c4ed8f65b3",
    "id": "tired-burton",
    "papermill": {
     "duration": 0.056153,
     "end_time": "2021-05-07T08:36:04.651341",
     "exception": false,
     "start_time": "2021-05-07T08:36:04.595188",
     "status": "completed"
    },
    "tags": []
   },
   "source": [
    "\n",
    "```python\n",
    "df.groupby(by=grouping_columns)[columns_to_show].function()\n",
    "```"
   ]
  },
  {
   "cell_type": "markdown",
   "id": "compact-affiliation",
   "metadata": {
    "_uuid": "1ac45d322f049449259ff21197e9977e220e82d1",
    "id": "compact-affiliation",
    "papermill": {
     "duration": 0.056121,
     "end_time": "2021-05-07T08:36:04.764028",
     "exception": false,
     "start_time": "2021-05-07T08:36:04.707907",
     "status": "completed"
    },
    "tags": []
   },
   "source": [
    "\n",
    "1. First, the `groupby` method divides the `grouping_columns` by their values. They become a new index in the resulting dataframe.\n",
    "2. Then, columns of interest are selected (`columns_to_show`). If `columns_to_show` is not included, all non groupby clauses will be included.\n",
    "3. Finally, one or several functions are applied to the obtained groups per selected columns.\n",
    "\n",
    "How can you group data by a specific column (e.g., \"Churn\") and then display statistical summaries (e.g., mean, standard deviation, etc.) for selected columns such as \"Total day minutes,\" \"Total eve minutes,\" and \"Total night minutes\"?"
   ]
  },
  {
   "cell_type": "code",
   "execution_count": null,
   "id": "iEmQvr_k6zCj",
   "metadata": {
    "id": "iEmQvr_k6zCj"
   },
   "outputs": [],
   "source": [
    "#Your answer here"
   ]
  },
  {
   "cell_type": "markdown",
   "id": "monthly-identifier",
   "metadata": {
    "_uuid": "7fc26768e62869d3ac4f1c0c379356a642240c7f",
    "id": "monthly-identifier",
    "papermill": {
     "duration": 0.058595,
     "end_time": "2021-05-07T08:36:05.048399",
     "exception": false,
     "start_time": "2021-05-07T08:36:04.989804",
     "status": "completed"
    },
    "tags": []
   },
   "source": [
    "How can you group data by a specific column (e.g., \"Churn\") and then apply multiple aggregation functions (e.g., mean, standard deviation, min, max) to selected columns such as \"Total day minutes,\" \"Total eve minutes,\" and \"Total night minutes\"?"
   ]
  },
  {
   "cell_type": "code",
   "execution_count": null,
   "id": "T-34ZiRH6zdn",
   "metadata": {
    "id": "T-34ZiRH6zdn"
   },
   "outputs": [],
   "source": [
    "#Your answer here"
   ]
  },
  {
   "cell_type": "markdown",
   "id": "saved-evans",
   "metadata": {
    "_uuid": "221a34086734d3b52deccfda2db2edfb6f1b92a5",
    "id": "saved-evans",
    "papermill": {
     "duration": 0.057656,
     "end_time": "2021-05-07T08:36:05.322566",
     "exception": false,
     "start_time": "2021-05-07T08:36:05.264910",
     "status": "completed"
    },
    "tags": []
   },
   "source": [
    "\n",
    "### Summary tables\n",
    "\n",
    "How can you create a contingency table to observe the distribution of data across two variables, such as \"Churn\" and \"International plan\"?\n",
    "\n"
   ]
  },
  {
   "cell_type": "code",
   "execution_count": null,
   "id": "ITXiNWIq7p0k",
   "metadata": {
    "id": "ITXiNWIq7p0k"
   },
   "outputs": [],
   "source": [
    "#Your answer here"
   ]
  },
  {
   "cell_type": "markdown",
   "id": "9CLxhIEW7sYr",
   "metadata": {
    "_uuid": "221a34086734d3b52deccfda2db2edfb6f1b92a5",
    "id": "9CLxhIEW7sYr",
    "papermill": {
     "duration": 0.057656,
     "end_time": "2021-05-07T08:36:05.322566",
     "exception": false,
     "start_time": "2021-05-07T08:36:05.264910",
     "status": "completed"
    },
    "tags": []
   },
   "source": [
    "How can you create a contingency table to observe the distribution of data across two variables, such as \"Churn\" and \"Voice mail plan\"?\n",
    "\n"
   ]
  },
  {
   "cell_type": "code",
   "execution_count": null,
   "id": "ZvRIWSay7sYs",
   "metadata": {
    "id": "ZvRIWSay7sYs"
   },
   "outputs": [],
   "source": [
    "#Your answer here"
   ]
  },
  {
   "cell_type": "markdown",
   "id": "unlimited-copying",
   "metadata": {
    "_uuid": "e7f0851cc14ce07d75871d1305b31e839a253b72",
    "id": "unlimited-copying",
    "papermill": {
     "duration": 0.058903,
     "end_time": "2021-05-07T08:36:05.734702",
     "exception": false,
     "start_time": "2021-05-07T08:36:05.675799",
     "status": "completed"
    },
    "tags": []
   },
   "source": [
    "How can you create a pivot table to calculate the average number of day, evening, and night calls grouped by \"Area code\"?"
   ]
  },
  {
   "cell_type": "code",
   "execution_count": null,
   "id": "NupEYdU679Dz",
   "metadata": {
    "id": "NupEYdU679Dz"
   },
   "outputs": [],
   "source": [
    "#Your answer here"
   ]
  },
  {
   "cell_type": "markdown",
   "id": "lucky-census",
   "metadata": {
    "_uuid": "ea35f7ad664ff32785231dcae2292e9a66b28b90",
    "id": "lucky-census",
    "papermill": {
     "duration": 0.059374,
     "end_time": "2021-05-07T08:36:05.998407",
     "exception": false,
     "start_time": "2021-05-07T08:36:05.939033",
     "status": "completed"
    },
    "tags": []
   },
   "source": [
    "\n",
    "### DataFrame transformations\n",
    "\n",
    "How can you calculate the total number of calls (\"Total day calls\", \"Total eve calls\", \"Total night calls\", and \"Total intl calls\") for all users and add this information as a new column named \"Total calls\" to the DataFrame?\n",
    "\n"
   ]
  },
  {
   "cell_type": "code",
   "execution_count": null,
   "id": "oml9DzqS8fB1",
   "metadata": {
    "id": "oml9DzqS8fB1"
   },
   "outputs": [],
   "source": [
    "#Your answer here"
   ]
  },
  {
   "cell_type": "markdown",
   "id": "breeding-franklin",
   "metadata": {
    "_uuid": "83e0b3c996775535de55a8773bdd7dee215e2a3b",
    "id": "breeding-franklin",
    "papermill": {
     "duration": 0.060947,
     "end_time": "2021-05-07T08:36:06.556289",
     "exception": false,
     "start_time": "2021-05-07T08:36:06.495342",
     "status": "completed"
    },
    "tags": []
   },
   "source": [
    "How can you delete specific columns or rows from a DataFrame?\n",
    "**Note:** It should alters the current DataFrame and should not return a new one."
   ]
  },
  {
   "cell_type": "code",
   "execution_count": null,
   "id": "rV0LYwHn9F0X",
   "metadata": {
    "id": "rV0LYwHn9F0X"
   },
   "outputs": [],
   "source": [
    "#Your answer here"
   ]
  },
  {
   "cell_type": "markdown",
   "id": "decreased-enhancement",
   "metadata": {
    "_uuid": "482e5e694de9c2173dd607a2821c54d704bc88ea",
    "id": "decreased-enhancement",
    "papermill": {
     "duration": 0.062246,
     "end_time": "2021-05-07T08:36:06.831165",
     "exception": false,
     "start_time": "2021-05-07T08:36:06.768919",
     "status": "completed"
    },
    "tags": []
   },
   "source": [
    "<h1> Visualizing the Data</h1>\n",
    "\n",
    "We'll do this using visual analysis with `matplotlib` and `Seaborn`.\n"
   ]
  },
  {
   "cell_type": "code",
   "execution_count": null,
   "id": "suited-boston",
   "metadata": {
    "ExecuteTime": {
     "end_time": "2024-05-16T06:10:04.441163Z",
     "start_time": "2024-05-16T06:10:04.435056Z"
    },
    "_uuid": "c809a62f4d1077993a0f0f2d36d1066c108ca23d",
    "id": "suited-boston",
    "papermill": {
     "duration": 1.038479,
     "end_time": "2021-05-07T08:36:08.112754",
     "exception": false,
     "start_time": "2021-05-07T08:36:07.074275",
     "status": "completed"
    },
    "scrolled": true,
    "tags": []
   },
   "outputs": [],
   "source": [
    "# some imports to set up plotting\n",
    "import matplotlib.pyplot as plt\n",
    "# !pip install seaborn\n",
    "import seaborn as sns\n",
    "\n",
    "# Graphics in retina format are more sharp and legible\n",
    "%config InlineBackend.figure_format = 'retina'\n"
   ]
  },
  {
   "cell_type": "markdown",
   "id": "Ns8iyI7C9XdI",
   "metadata": {
    "_uuid": "83e0b3c996775535de55a8773bdd7dee215e2a3b",
    "id": "Ns8iyI7C9XdI",
    "papermill": {
     "duration": 0.060947,
     "end_time": "2021-05-07T08:36:06.556289",
     "exception": false,
     "start_time": "2021-05-07T08:36:06.495342",
     "status": "completed"
    },
    "tags": []
   },
   "source": [
    "How can you create a count plot to visualize the distribution of the \"International plan\" variable, with separate bars for each \"Churn\" category,"
   ]
  },
  {
   "cell_type": "code",
   "execution_count": null,
   "id": "dlD3z8vy9Xdb",
   "metadata": {
    "id": "dlD3z8vy9Xdb"
   },
   "outputs": [],
   "source": [
    "#Your answer here"
   ]
  },
  {
   "cell_type": "markdown",
   "id": "63a16254",
   "metadata": {
    "_uuid": "0635e3e6152f625d97f51249805c6e0e38489f73",
    "id": "63a16254"
   },
   "source": [
    "<h2> Univariate visualization</h2>\n",
    "\n",
    "*Univariate* analysis looks at one feature at a time. When we analyze a feature independently, we are usually mostly interested in the *distribution of its values* and ignore other features in the dataset.\n",
    "\n",
    "Create histograms to visualize the distribution of values for the features \"Total day minutes\" and \"Total intl calls\"?"
   ]
  },
  {
   "cell_type": "code",
   "execution_count": null,
   "id": "qRpLdBIw_GKj",
   "metadata": {
    "id": "qRpLdBIw_GKj"
   },
   "outputs": [],
   "source": [
    "#Your answer here"
   ]
  },
  {
   "cell_type": "markdown",
   "id": "adb62aa0",
   "metadata": {
    "_uuid": "462eba4ccb56130d3152c44e17a48536576f1662",
    "id": "adb62aa0"
   },
   "source": [
    "Create density plots to visualize the distribution of values for the features \"Total day minutes\" and \"Total intl calls\"?"
   ]
  },
  {
   "cell_type": "code",
   "execution_count": null,
   "id": "sXhBVndf_VzB",
   "metadata": {
    "id": "sXhBVndf_VzB"
   },
   "outputs": [],
   "source": [
    "#Your answer here"
   ]
  },
  {
   "cell_type": "markdown",
   "id": "7a36a60f",
   "metadata": {
    "_uuid": "83d82466a9b52a693666bbc1f6b9f07d1dbc879f",
    "id": "7a36a60f"
   },
   "source": [
    "Create a box plot to visualize the distribution of the \"Total intl calls\" feature"
   ]
  },
  {
   "cell_type": "code",
   "execution_count": null,
   "id": "gOlIWrYc_gnD",
   "metadata": {
    "id": "gOlIWrYc_gnD"
   },
   "outputs": [],
   "source": [
    "#Your answer here"
   ]
  },
  {
   "cell_type": "markdown",
   "id": "ea8383f6",
   "metadata": {
    "_uuid": "c6a8bc368af75356bf100b6a6d0292398bdb77d4",
    "id": "ea8383f6"
   },
   "source": [
    "Make a comparison between a box plot and a violin plot for visualizing the distribution of the \"Total intl calls\" feature."
   ]
  },
  {
   "cell_type": "code",
   "execution_count": null,
   "id": "UcFLtHe1_2P0",
   "metadata": {
    "id": "UcFLtHe1_2P0"
   },
   "outputs": [],
   "source": [
    "#Your answer here"
   ]
  },
  {
   "cell_type": "markdown",
   "id": "2581fdb9",
   "metadata": {
    "_uuid": "d5e0f1b2d5996a4263224ae2f1f0f828dc8cf93d",
    "id": "2581fdb9"
   },
   "source": [
    "<h2>Multivariate visualization</h2>\n",
    "\n",
    "Create a correlation matrix to visualize the relationships among numerical variables in a DataFrame, and display it using a heatmap?"
   ]
  },
  {
   "cell_type": "code",
   "execution_count": null,
   "id": "9Vi7guX3ARtk",
   "metadata": {
    "id": "9Vi7guX3ARtk"
   },
   "outputs": [],
   "source": [
    "#Your answer here"
   ]
  },
  {
   "cell_type": "markdown",
   "id": "8cb3a7a6",
   "metadata": {
    "_uuid": "2e87c1223426c01a885062152696fb8a7ded29c4",
    "id": "8cb3a7a6"
   },
   "source": [
    "##### Scatter plot\n",
    "\n",
    "Create a scatter plot to visualize the relationship between two numerical variables, such as \"Total day minutes\" and \"Total night minutes,\"?"
   ]
  },
  {
   "cell_type": "code",
   "execution_count": null,
   "id": "CnPQ7CXUAyAA",
   "metadata": {
    "id": "CnPQ7CXUAyAA"
   },
   "outputs": [],
   "source": [
    "#Your answer here"
   ]
  },
  {
   "cell_type": "markdown",
   "id": "64a69ec4",
   "metadata": {
    "_uuid": "c3790d5530489d7663283c45153f6c5f13e26c5e",
    "id": "64a69ec4"
   },
   "source": [
    "Create a scatter plot with different colors for the \"Churn\" categories to visualize the relationship between \"Total day minutes\" and \"Total night minutes\""
   ]
  },
  {
   "cell_type": "code",
   "execution_count": null,
   "id": "tmPiGLE5BqMQ",
   "metadata": {
    "id": "tmPiGLE5BqMQ"
   },
   "outputs": [],
   "source": [
    "#Your answer here"
   ]
  },
  {
   "cell_type": "markdown",
   "id": "Vt7lEwHxB0iC",
   "metadata": {
    "_uuid": "c3790d5530489d7663283c45153f6c5f13e26c5e",
    "id": "Vt7lEwHxB0iC"
   },
   "source": [
    "Create a count plot to visualize the distribution of the \"Customer service calls\" variable, with different colors representing the \"Churn\" categories."
   ]
  },
  {
   "cell_type": "code",
   "execution_count": null,
   "id": "-G09P2Y1B0iD",
   "metadata": {
    "id": "-G09P2Y1B0iD"
   },
   "outputs": [],
   "source": [
    "#Your answer here"
   ]
  },
  {
   "cell_type": "markdown",
   "id": "XlTrjmmVjf8v",
   "metadata": {
    "id": "XlTrjmmVjf8v"
   },
   "source": [
    "<h1>Data Transformation</h1>"
   ]
  },
  {
   "cell_type": "code",
   "execution_count": null,
   "id": "27e4a981",
   "metadata": {
    "ExecuteTime": {
     "end_time": "2024-05-16T06:16:23.124676Z",
     "start_time": "2024-05-16T06:16:23.120631Z"
    },
    "_uuid": "96612de52466afb247d8712de2e7fba988bc19ed",
    "id": "27e4a981",
    "scrolled": true
   },
   "outputs": [],
   "source": [
    "from sklearn.preprocessing import StandardScaler"
   ]
  },
  {
   "cell_type": "markdown",
   "id": "8eba9d24",
   "metadata": {
    "_uuid": "2b327005c444e3fe070937320aa9c70da2741f25",
    "id": "8eba9d24"
   },
   "source": [
    "Delete specific columns ( \"Churn\", \"State\" ) from a DataFrame, convert binary categorical values (\"Yes\"/\"No\") into numerical values"
   ]
  },
  {
   "cell_type": "code",
   "execution_count": null,
   "id": "cHTJ1zfUEFod",
   "metadata": {
    "id": "cHTJ1zfUEFod"
   },
   "outputs": [],
   "source": [
    "#Your answer here"
   ]
  },
  {
   "cell_type": "markdown",
   "id": "34a876ec",
   "metadata": {
    "_uuid": "e4b537f3885794e9391ed0897c29573179fae51c",
    "id": "34a876ec"
   },
   "source": [
    "Now normalize the feature data by subtracting the mean and dividing by the standard deviation, and then convert the scaled data into a DataFrame"
   ]
  },
  {
   "cell_type": "code",
   "execution_count": null,
   "id": "ox-nMXsvE_2j",
   "metadata": {
    "id": "ox-nMXsvE_2j"
   },
   "outputs": [],
   "source": [
    "#Your answer here"
   ]
  },
  {
   "cell_type": "markdown",
   "id": "ddzF0BzlrUFf",
   "metadata": {
    "id": "ddzF0BzlrUFf"
   },
   "source": [
    "<h1>Splitting a Dataset into Train & Test Set</h1>\n",
    "\n",
    "How can you split a dataset into training and testing sets, with 25% of the data reserved for testing?"
   ]
  },
  {
   "cell_type": "code",
   "execution_count": null,
   "id": "GIMlb5_EEu_u",
   "metadata": {
    "id": "GIMlb5_EEu_u"
   },
   "outputs": [],
   "source": [
    "#Your answer here"
   ]
  },
  {
   "cell_type": "markdown",
   "id": "gQ-MxIjygD-o",
   "metadata": {
    "id": "gQ-MxIjygD-o"
   },
   "source": [
    "<h1>Classification using Machine Learning</h1>\n"
   ]
  },
  {
   "cell_type": "code",
   "execution_count": null,
   "id": "O88hd-YTgBor",
   "metadata": {
    "id": "O88hd-YTgBor"
   },
   "outputs": [],
   "source": [
    "from sklearn.tree import DecisionTreeClassifier"
   ]
  },
  {
   "cell_type": "markdown",
   "id": "KVW-6ydsFK0M",
   "metadata": {
    "_uuid": "e4b537f3885794e9391ed0897c29573179fae51c",
    "id": "KVW-6ydsFK0M"
   },
   "source": [
    "Train a Decision Tree classifier on the training data and make predictions on the test data"
   ]
  },
  {
   "cell_type": "code",
   "execution_count": null,
   "id": "kgSLFoE7FK0M",
   "metadata": {
    "id": "kgSLFoE7FK0M"
   },
   "outputs": [],
   "source": [
    "#Your answer here"
   ]
  },
  {
   "cell_type": "markdown",
   "id": "vDZUbBzu5lJc",
   "metadata": {
    "_uuid": "e4b537f3885794e9391ed0897c29573179fae51c",
    "id": "vDZUbBzu5lJc"
   },
   "source": [
    "**Some additional questions**\n",
    "\n",
    "1) If you will be asked to choose a single feature for classification which one you will choose.\n",
    "Justify with analysis."
   ]
  },
  {
   "cell_type": "code",
   "execution_count": null,
   "id": "cA5RBBEl5lJe",
   "metadata": {
    "id": "cA5RBBEl5lJe"
   },
   "outputs": [],
   "source": [
    "#Your answer here"
   ]
  },
  {
   "cell_type": "markdown",
   "id": "r4mTdHdv51ut",
   "metadata": {
    "_uuid": "e4b537f3885794e9391ed0897c29573179fae51c",
    "id": "r4mTdHdv51ut"
   },
   "source": [
    "2) If you will be asked to choose two features for classification which two you will choose.\n",
    "Justify with analysis."
   ]
  },
  {
   "cell_type": "code",
   "execution_count": null,
   "id": "goonPWQP51vB",
   "metadata": {
    "id": "goonPWQP51vB"
   },
   "outputs": [],
   "source": [
    "#Your answer here"
   ]
  }
 ],
 "metadata": {
  "colab": {
   "provenance": []
  },
  "kernelspec": {
   "display_name": "Python 3 (ipykernel)",
   "language": "python",
   "name": "python3"
  },
  "language_info": {
   "codemirror_mode": {
    "name": "ipython",
    "version": 3
   },
   "file_extension": ".py",
   "mimetype": "text/x-python",
   "name": "python",
   "nbconvert_exporter": "python",
   "pygments_lexer": "ipython3",
   "version": "3.12.4"
  },
  "papermill": {
   "default_parameters": {},
   "duration": 18.526667,
   "end_time": "2021-05-07T08:36:10.909084",
   "environment_variables": {},
   "exception": null,
   "input_path": "__notebook__.ipynb",
   "output_path": "__notebook__.ipynb",
   "parameters": {},
   "start_time": "2021-05-07T08:35:52.382417",
   "version": "2.3.2"
  },
  "toc": {
   "base_numbering": 1,
   "nav_menu": {},
   "number_sections": true,
   "sideBar": true,
   "skip_h1_title": false,
   "title_cell": "Table of Contents",
   "title_sidebar": "Contents",
   "toc_cell": false,
   "toc_position": {},
   "toc_section_display": true,
   "toc_window_display": false
  },
  "varInspector": {
   "cols": {
    "lenName": 16,
    "lenType": 16,
    "lenVar": 40
   },
   "kernels_config": {
    "python": {
     "delete_cmd_postfix": "",
     "delete_cmd_prefix": "del ",
     "library": "var_list.py",
     "varRefreshCmd": "print(var_dic_list())"
    },
    "r": {
     "delete_cmd_postfix": ") ",
     "delete_cmd_prefix": "rm(",
     "library": "var_list.r",
     "varRefreshCmd": "cat(var_dic_list()) "
    }
   },
   "types_to_exclude": [
    "module",
    "function",
    "builtin_function_or_method",
    "instance",
    "_Feature"
   ],
   "window_display": false
  }
 },
 "nbformat": 4,
 "nbformat_minor": 5
}
